{
 "cells": [
  {
   "cell_type": "code",
   "execution_count": 6,
   "id": "important-flexibility",
   "metadata": {},
   "outputs": [
    {
     "name": "stdout",
     "output_type": "stream",
     "text": [
      "Enter country name: Bermuda\n",
      "Current date and time in India :  2022-01-17 15:21:14.217619\n",
      "current date time in Bermuda :  2022-01-17 06:51:14.217619\n"
     ]
    }
   ],
   "source": [
    "import pandas as pd\n",
    "import pytz\n",
    "import datetime as dt\n",
    "import csv\n",
    "\n",
    "def diff_city_time(town):\n",
    "    data = []\n",
    "    with open(\"time_zone.csv\") as csvfile:\n",
    "        reader = csv.reader(csvfile)\n",
    "        for row in reader:\n",
    "            data.append(row)\n",
    "    col = [x[0] for x in data]\n",
    "    if town in col:\n",
    "        for x in range(0, len(data)):\n",
    "            if town == data[x][0]:\n",
    "                hr = data[x][1]\n",
    "                mn = data[x][2]\n",
    "    else:\n",
    "        print(\"Given town/country name not present in csv file\")\n",
    "    ind_current_time = dt.datetime.now()\n",
    "    diff = dt.timedelta(minutes=int(mn), hours=int(hr))\n",
    "    difff_curr_time = ind_current_time + diff\n",
    "    return difff_curr_time\n",
    "\n",
    "\n",
    "town = input(\"Enter country name: \")\n",
    "diff_country_time = diff_city_time(town)\n",
    "ind = dt.datetime.now()\n",
    "print(\"Current date and time in India : \", ind)\n",
    "print(\"current date time in \" + town + \" : \", diff_country_time)\n",
    "\n",
    "# you can see the current timezone of the following countries\n",
    "# Afghanistan, Albania, Australia, Belarus, Brazil, Bulgaria, Canada, Finland, Qatar, USA, Russia, Poland, Hong Kong,\n",
    "# Yemen, Indonesia, Singapore, Bermuda, Chile, Mexico, Mali, Nepal, Cuba, Denmark, Egypt, Ethiopia, Portugal, Romania,\n",
    "# Greece, Greenland, China, Myanmar, Norway, Oman, Pakistan, Peru\n",
    "\n",
    "\n",
    "\n",
    "\n",
    "\n",
    "\n",
    "\n",
    "\n",
    "\n",
    "\n",
    "\n",
    "\n"
   ]
  },
  {
   "cell_type": "code",
   "execution_count": null,
   "id": "abandoned-corner",
   "metadata": {},
   "outputs": [],
   "source": []
  }
 ],
 "metadata": {
  "kernelspec": {
   "display_name": "Python 3 (ipykernel)",
   "language": "python",
   "name": "python3"
  },
  "language_info": {
   "codemirror_mode": {
    "name": "ipython",
    "version": 3
   },
   "file_extension": ".py",
   "mimetype": "text/x-python",
   "name": "python",
   "nbconvert_exporter": "python",
   "pygments_lexer": "ipython3",
   "version": "3.10.0"
  }
 },
 "nbformat": 4,
 "nbformat_minor": 5
}
